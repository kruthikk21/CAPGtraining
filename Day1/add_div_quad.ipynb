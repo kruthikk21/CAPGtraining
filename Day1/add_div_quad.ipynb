{
 "cells": [
  {
   "cell_type": "code",
   "execution_count": null,
   "metadata": {},
   "outputs": [],
   "source": [
    "num1 = int(input(\"Enter first number: \"))\n",
    "num2 = int(input(\"Enter second number: \"))\n",
    "sum = num1 + num2\n",
    "print(\"Sum of the numbers is: \", sum)\n"
   ]
  },
  {
   "cell_type": "code",
   "execution_count": 1,
   "metadata": {},
   "outputs": [
    {
     "name": "stdout",
     "output_type": "stream",
     "text": [
      "sqrt 5.0\n",
      "pi 3.141592653589793\n",
      "e 2.718281828459045\n",
      "sin 0.0\n",
      "cos 1.0\n",
      "tan 0.0\n",
      "log 2.302585092994046\n",
      "log10 1.0\n",
      "exp 7.38905609893065\n",
      "pow 8.0\n",
      "ceil 3\n",
      "floor 2\n",
      "fabs 2.3\n",
      "factorial 120\n",
      "fmod 1.0\n",
      "frexp (0.625, 4)\n",
      "fsum 15.0\n"
     ]
    }
   ],
   "source": [
    "import math\n",
    "print(\"sqrt\",math.sqrt(25))\n",
    "print(\"pi\",math.pi)\n",
    "print(\"e\",math.e)\n",
    "print(\"sin\",math.sin(0))\n",
    "print(\"cos\",math.cos(0))\n",
    "print(\"tan\",math.tan(0))\n",
    "print(\"log\",math.log(10))\n",
    "print(\"log10\",math.log10(10))\n",
    "print(\"exp\",math.exp(2))\n",
    "print(\"pow\",math.pow(2,3))\n",
    "print(\"ceil\",math.ceil(2.3))\n",
    "print(\"floor\",math.floor(2.3))\n",
    "print(\"fabs\",math.fabs(-2.3))\n",
    "print(\"factorial\",math.factorial(5))\n",
    "print(\"fmod\",math.fmod(10,3))\n",
    "print(\"frexp\",math.frexp(10))\n",
    "print(\"fsum\",math.fsum([1,2,3,4,5]))"
   ]
  },
  {
   "cell_type": "code",
   "execution_count": null,
   "metadata": {},
   "outputs": [],
   "source": [
    "import math\n",
    "a=int(input(\"Enter the value of a: \"))\n",
    "b=int(input(\"Enter the value of b: \"))\n",
    "c=int(input(\"Enter the value of c: \"))\n",
    "d=(b**2)-(4*a*c)\n",
    "sol1=(-b+math.sqrt(d))/(2*a)\n",
    "sol2=(-b-math.sqrt(d))/(2*a)\n",
    "print(\"The solutions are\",sol1,\"and\",sol2)\n"
   ]
  },
  {
   "cell_type": "code",
   "execution_count": 4,
   "metadata": {},
   "outputs": [
    {
     "name": "stdout",
     "output_type": "stream",
     "text": [
      "Floor div 50\n",
      "castdiv 50\n"
     ]
    }
   ],
   "source": [
    "num = int(input())\n",
    "sol1 = num // 10 * 10\n",
    "sol2 = int(num / 10) * 10\n",
    "print(\"Floor div\",sol1)\n",
    "print(\"castdiv\",sol2)"
   ]
  },
  {
   "cell_type": "code",
   "execution_count": null,
   "metadata": {},
   "outputs": [],
   "source": []
  }
 ],
 "metadata": {
  "kernelspec": {
   "display_name": "Python 3",
   "language": "python",
   "name": "python3"
  },
  "language_info": {
   "codemirror_mode": {
    "name": "ipython",
    "version": 3
   },
   "file_extension": ".py",
   "mimetype": "text/x-python",
   "name": "python",
   "nbconvert_exporter": "python",
   "pygments_lexer": "ipython3",
   "version": "3.13.2"
  }
 },
 "nbformat": 4,
 "nbformat_minor": 2
}
