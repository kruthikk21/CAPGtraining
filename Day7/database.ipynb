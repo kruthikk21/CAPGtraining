{
 "cells": [
  {
   "cell_type": "code",
   "execution_count": 1,
   "metadata": {},
   "outputs": [],
   "source": [
    "class customers:\n",
    "    def customer(cust,cust_id,password,first_name,last_name,phone,email,city,state,zip_code):\n",
    "        cust.cust_id=cust_id\n",
    "        cust.password=password\n",
    "        cust.first_name=first_name\n",
    "        cust.last_name=last_name\n",
    "        cust.phone=phone\n",
    "        cust.email=email\n",
    "        cust.city=city\n",
    "        cust.state=state\n",
    "        cust.zip_code=zip_code\n",
    "        \n",
    "    def display(cust):\n",
    "        print(f\"Customer id{cust.cust_id} ,\")\n",
    "\n",
    "class orders:\n",
    "    def orders(ord,order_id,customer_id,order_status,ordered_date,required_date,shipped_date,store_id,staff_id):\n",
    "        ord.customer_id=customer_id\n",
    "        ord.order_id=order_id\n",
    "        ord.order_status=order_status\n",
    "        ord.ordered_date=ordered_date\n",
    "        ord.required_date=required_date\n",
    "        ord.shipped_date=shipped_date\n",
    "        ord.store_id=store_id\n",
    "        ord.staff_id=staff_id\n",
    "        \n",
    "    def display(ord):\n",
    "        print(f\"ordered id {ord.order_id}{ord.customer_id}{ord.order_status}{ord.ordered_date}\")"
   ]
  },
  {
   "cell_type": "code",
   "execution_count": null,
   "metadata": {},
   "outputs": [],
   "source": []
  }
 ],
 "metadata": {
  "kernelspec": {
   "display_name": "Python 3",
   "language": "python",
   "name": "python3"
  },
  "language_info": {
   "codemirror_mode": {
    "name": "ipython",
    "version": 3
   },
   "file_extension": ".py",
   "mimetype": "text/x-python",
   "name": "python",
   "nbconvert_exporter": "python",
   "pygments_lexer": "ipython3",
   "version": "3.13.1"
  }
 },
 "nbformat": 4,
 "nbformat_minor": 2
}
