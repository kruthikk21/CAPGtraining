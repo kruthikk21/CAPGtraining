{
 "cells": [
  {
   "cell_type": "code",
   "execution_count": 1,
   "metadata": {},
   "outputs": [
    {
     "name": "stdout",
     "output_type": "stream",
     "text": [
      "second constructor:age is25\n",
      "Hello 22,you are 5 years old\n"
     ]
    },
    {
     "ename": "TypeError",
     "evalue": "example.__init__() got an unexpected keyword argument 'name'",
     "output_type": "error",
     "traceback": [
      "\u001b[1;31m---------------------------------------------------------------------------\u001b[0m",
      "\u001b[1;31mTypeError\u001b[0m                                 Traceback (most recent call last)",
      "Cell \u001b[1;32mIn[1], line 28\u001b[0m\n\u001b[0;32m     24\u001b[0m             \u001b[38;5;28mprint\u001b[39m(\u001b[38;5;124mf\u001b[39m\u001b[38;5;124m\"\u001b[39m\u001b[38;5;124mhello \u001b[39m\u001b[38;5;132;01m{\u001b[39;00mkwargs[\u001b[38;5;124m'\u001b[39m\u001b[38;5;124mname\u001b[39m\u001b[38;5;124m'\u001b[39m]\u001b[38;5;132;01m}\u001b[39;00m\u001b[38;5;124m\"\u001b[39m)\n\u001b[0;32m     26\u001b[0m         \u001b[38;5;28mself\u001b[39m\u001b[38;5;241m.\u001b[39mxfield\u001b[38;5;241m=\u001b[39mkwargs[\u001b[38;5;124m'\u001b[39m\u001b[38;5;124mname\u001b[39m\u001b[38;5;124m'\u001b[39m]\n\u001b[1;32m---> 28\u001b[0m obj1\u001b[38;5;241m=\u001b[39m\u001b[43mexample\u001b[49m\u001b[43m(\u001b[49m\u001b[43mname\u001b[49m\u001b[38;5;241;43m=\u001b[39;49m\u001b[38;5;124;43m'\u001b[39;49m\u001b[38;5;124;43malice\u001b[39;49m\u001b[38;5;124;43m'\u001b[39;49m\u001b[43m,\u001b[49m\u001b[43mage\u001b[49m\u001b[38;5;241;43m=\u001b[39;49m\u001b[38;5;124;43m'\u001b[39;49m\u001b[38;5;124;43m2\u001b[39;49m\u001b[38;5;124;43m'\u001b[39;49m\u001b[43m)\u001b[49m\n\u001b[0;32m     29\u001b[0m \u001b[38;5;28mprint\u001b[39m(obj1\u001b[38;5;241m.\u001b[39mstudent_name)\n",
      "\u001b[1;31mTypeError\u001b[0m: example.__init__() got an unexpected keyword argument 'name'"
     ]
    }
   ],
   "source": [
    "class example:\n",
    "    def __init__(self,name):\n",
    "        print(f\"First constructor:helloo{name}\")\n",
    "    def __init__(self,age):\n",
    "        print(f\"second constructor:age is{age}\")\n",
    "obj=example(25)\n",
    "\n",
    "class example:\n",
    "    def __init__(self,*args):\n",
    "        if len(args)==1:\n",
    "            print(f\"Hello{args[0]}\")\n",
    "        elif len(args)==2:\n",
    "            print(f\"Hello {args[0]},you are {args[1]} years old\")\n",
    "        elif len(args)==3:\n",
    "            print(f\"Hello {args[0]},you are {args[2]} years old\")\n",
    "obj=example(22,4,5)\n",
    "\n",
    "class example:\n",
    "    def __init__(self,student_name,*kwargs):\n",
    "        self.student_name=student_name\n",
    "        if 'name' in kwargs and age in kwargs:\n",
    "            print(f\"hello {kwargs['name']},you are {kwargs[age]} year old\")\n",
    "        elif 'name' in kwargs:\n",
    "            print(f\"hello {kwargs['name']}\")\n",
    "\n",
    "        self.xfield=kwargs['name']\n",
    "\n",
    "obj1=example(name='alice',age='2')\n",
    "print(obj1.student_name)"
   ]
  },
  {
   "cell_type": "code",
   "execution_count": null,
   "metadata": {},
   "outputs": [],
   "source": []
  }
 ],
 "metadata": {
  "kernelspec": {
   "display_name": "Python 3",
   "language": "python",
   "name": "python3"
  },
  "language_info": {
   "codemirror_mode": {
    "name": "ipython",
    "version": 3
   },
   "file_extension": ".py",
   "mimetype": "text/x-python",
   "name": "python",
   "nbconvert_exporter": "python",
   "pygments_lexer": "ipython3",
   "version": "3.13.1"
  }
 },
 "nbformat": 4,
 "nbformat_minor": 2
}
