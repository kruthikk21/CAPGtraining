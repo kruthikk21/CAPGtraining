{
 "cells": [
  {
   "cell_type": "code",
   "execution_count": 5,
   "metadata": {},
   "outputs": [
    {
     "name": "stdout",
     "output_type": "stream",
     "text": [
      "area of square is36\n",
      "Area of circle is314.0\n",
      "area of rectangle 28\n"
     ]
    }
   ],
   "source": [
    "class shape:\n",
    "    def area(self):\n",
    "        pass\n",
    "class square(shape):\n",
    "    def area(self,l):\n",
    "        print(f\"area of square is{l*l}\")\n",
    "    \n",
    "\n",
    "class circle(shape):\n",
    "    def area(self,r):\n",
    "        print(f\"Area of circle is{3.14*r*r}\")\n",
    "class rectangle(shape):\n",
    "    def area(self,l,b):\n",
    "        print(f\"area of rectangle {l*b}\")\n",
    "obj=square()\n",
    "obj.area(6)\n",
    "obj1=circle()\n",
    "obj1.area(10)\n",
    "obj2=rectangle()S\n",
    "obj2.area(4,7)\n",
    "    "
   ]
  },
  {
   "cell_type": "code",
   "execution_count": null,
   "metadata": {},
   "outputs": [],
   "source": []
  }
 ],
 "metadata": {
  "kernelspec": {
   "display_name": "Python 3",
   "language": "python",
   "name": "python3"
  },
  "language_info": {
   "codemirror_mode": {
    "name": "ipython",
    "version": 3
   },
   "file_extension": ".py",
   "mimetype": "text/x-python",
   "name": "python",
   "nbconvert_exporter": "python",
   "pygments_lexer": "ipython3",
   "version": "3.13.1"
  }
 },
 "nbformat": 4,
 "nbformat_minor": 2
}
