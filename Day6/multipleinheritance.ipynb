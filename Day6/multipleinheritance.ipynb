{
 "cells": [
  {
   "cell_type": "code",
   "execution_count": null,
   "metadata": {},
   "outputs": [],
   "source": [
    "class man:\n",
    "    def man(self):\n",
    "        print(\"I am man\")\n",
    "class women:\n",
    "    def women(self):\n",
    "         print(\"I am women\")\n",
    "class person(man,women):\n",
    "    pass\n",
    "obj=person()\n",
    "obj.man()\n",
    "obj.women()\n",
    "\n",
    "\n"
   ]
  },
  {
   "cell_type": "code",
   "execution_count": 6,
   "metadata": {},
   "outputs": [
    {
     "name": "stdout",
     "output_type": "stream",
     "text": [
      "I am man\n",
      "I am women\n",
      "I am man\n",
      "I am women\n"
     ]
    }
   ],
   "source": [
    "class man:\n",
    "    def man(self):\n",
    "        print(\"I am man\")\n",
    "class women:\n",
    "    def women(self):\n",
    "         print(\"I am women\")\n",
    "class person(man,women):\n",
    "    pass\n",
    "#assigning obj1 to obj(creating another object)\n",
    "obj=man()\n",
    "obj.man()\n",
    "obj1=person()\n",
    "\n",
    "obj1.women()\n",
    "obj=obj1\n",
    "obj.man()\n",
    "obj.women()\n"
   ]
  },
  {
   "cell_type": "code",
   "execution_count": null,
   "metadata": {},
   "outputs": [],
   "source": []
  }
 ],
 "metadata": {
  "kernelspec": {
   "display_name": "Python 3",
   "language": "python",
   "name": "python3"
  },
  "language_info": {
   "codemirror_mode": {
    "name": "ipython",
    "version": 3
   },
   "file_extension": ".py",
   "mimetype": "text/x-python",
   "name": "python",
   "nbconvert_exporter": "python",
   "pygments_lexer": "ipython3",
   "version": "3.13.1"
  }
 },
 "nbformat": 4,
 "nbformat_minor": 2
}
