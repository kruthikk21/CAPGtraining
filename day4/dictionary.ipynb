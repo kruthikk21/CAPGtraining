{
 "cells": [
  {
   "cell_type": "code",
   "execution_count": 2,
   "metadata": {},
   "outputs": [
    {
     "name": "stdout",
     "output_type": "stream",
     "text": [
      "D1 {'apples': 2, 'eggs': 3}\n",
      "D2 {'food': {'eggs': 4, 'orange': 3}}\n",
      "D4 {'food': 2, 'clothes': 3, 'shelter': 4}\n",
      "D5 {'food': 2, 'cloths': 3, 'selter': 4}\n",
      "D6 {'food': 0, 'cloths': 0, 'selter': 0}\n"
     ]
    }
   ],
   "source": [
    "D={}\n",
    "D1={'apples':2,'eggs':3}\n",
    "D2={'food':{'eggs':4,'orange':3}}\n",
    "D4=dict(food=2,clothes=3,shelter=4)\n",
    "names=['food','cloths','selter']\n",
    "values=[2,3,4]\n",
    "D5=dict(zip(names,values))\n",
    "D6=dict.fromkeys(names,0)\n",
    "print(\"D1\",D1)\n",
    "print(\"D2\",D2)\n",
    "\n",
    "print(\"D4\",D4)\n",
    "print(\"D5\",D5)\n",
    "print(\"D6\",D6)\n",
    "\n",
    "\n"
   ]
  },
  {
   "cell_type": "code",
   "execution_count": null,
   "metadata": {},
   "outputs": [],
   "source": []
  }
 ],
 "metadata": {
  "kernelspec": {
   "display_name": "Python 3",
   "language": "python",
   "name": "python3"
  },
  "language_info": {
   "codemirror_mode": {
    "name": "ipython",
    "version": 3
   },
   "file_extension": ".py",
   "mimetype": "text/x-python",
   "name": "python",
   "nbconvert_exporter": "python",
   "pygments_lexer": "ipython3",
   "version": "3.13.1"
  }
 },
 "nbformat": 4,
 "nbformat_minor": 2
}
