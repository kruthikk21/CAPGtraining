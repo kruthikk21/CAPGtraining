{
 "cells": [
  {
   "cell_type": "code",
   "execution_count": 5,
   "metadata": {},
   "outputs": [
    {
     "name": "stdout",
     "output_type": "stream",
     "text": [
      "[23, 34]\n",
      "Empty list: []\n",
      "elements in list [10, 30, 50, 70]\n",
      "Nested list ['hi', ['hello', 'asd']]\n",
      "List with string ['k', 'r', 'u', 't', 'h', 'i', 'k']\n",
      "list with range: [1, 2, 3, 4, 5, 6, 7, 8, 9]\n",
      "element at second index from the list 30\n",
      "element at position  7\n",
      "List slicing [65, 94, 57]\n",
      "length of list: 6\n"
     ]
    }
   ],
   "source": [
    "n=int(input())\n",
    "arr=[]\n",
    "for i in range(1,n):\n",
    "    arr.append(int(input(\"enter the element\")))\n",
    "print(arr)\n",
    "\n",
    "l1=[]\n",
    "print(\"Empty list:\",l1)\n",
    "l2=[10,30,50,70]\n",
    "print(\"elements in list\",l2)\n",
    "\n",
    "l3=[\"hi\",[\"hello\",\"asd\"]]\n",
    "print(\"Nested list\",l3)\n",
    "\n",
    "l4=list(\"kruthik\")\n",
    "print(\"List with string\",l4)\n",
    "\n",
    "l5=list(range(1,10))\n",
    "print(\"list with range:\",l5)\n",
    "\n",
    "l6=[10,20,30,40,50]\n",
    "print(\"element at second index from the list\",l6[2])\n",
    "\n",
    "l7=['s',[4,5,6,7],'g']\n",
    "print(\"element at position \",l7[1][3])\n",
    "\n",
    "l8=[89,65,94,57,34]\n",
    "print(\"List slicing\",l8[1:4])\n",
    "\n",
    "l9=[1,2,34,5,78,45]\n",
    "print(\"length of list:\",len(l9))\n",
    "\n",
    "\n"
   ]
  },
  {
   "cell_type": "code",
   "execution_count": 13,
   "metadata": {},
   "outputs": [
    {
     "name": "stdout",
     "output_type": "stream",
     "text": [
      "[12, 34, 56, 78, 90]\n",
      "270\n"
     ]
    }
   ],
   "source": [
    "n=5\n",
    "arr=[]\n",
    "for i in range(5):\n",
    "    arr.append(int(input(f\"ENter the {i+1} th element\")))\n",
    "print(arr)\n",
    "print(sum(arr))\n",
    "\n"
   ]
  },
  {
   "cell_type": "code",
   "execution_count": 18,
   "metadata": {},
   "outputs": [
    {
     "name": "stdout",
     "output_type": "stream",
     "text": [
      "[23, 21, 1, 9, 45]\n",
      "[1, 9, 21, 23, 45]\n",
      "the smallest element is 1\n",
      "The largest element is  45\n"
     ]
    }
   ],
   "source": [
    "n=5\n",
    "arr=[]\n",
    "for i in range(5):\n",
    "    arr.append(int(input(f\"ENter the {i+1} th element\")))\n",
    "print(arr)\n",
    "arr.sort()\n",
    "print(arr)\n",
    "print(\"the smallest element is\",arr[0])\n",
    "print(\"The largest element is \",arr[n-1])"
   ]
  },
  {
   "cell_type": "code",
   "execution_count": null,
   "metadata": {},
   "outputs": [],
   "source": [
    "def get_input():\n",
    "    nums = [int(input(f\"Enter number {i+1}:\")) for i in range((int(input(\"Enter the size of nums:\"))))]\n",
    "    return nums\n",
    "\n",
    "def smallest(nums):\n",
    "    small = nums[0]\n",
    "    for i in range(0,len(nums)):\n",
    "        for i in range(i+1,len(nums)):\n",
    "            if nums[i]>small:\n",
    "                small=nums[i]\n",
    "    return small\n",
    "        \n",
    "\n",
    "def main():\n",
    "    nums = get_input()\n",
    "    print(\"Smallest Number:\", smallest(nums))\n",
    "    print(\"Biggest Number:\", biggest(nums))\n",
    "\n",
    "main()"
   ]
  }
 ],
 "metadata": {
  "kernelspec": {
   "display_name": "Python 3",
   "language": "python",
   "name": "python3"
  },
  "language_info": {
   "codemirror_mode": {
    "name": "ipython",
    "version": 3
   },
   "file_extension": ".py",
   "mimetype": "text/x-python",
   "name": "python",
   "nbconvert_exporter": "python",
   "pygments_lexer": "ipython3",
   "version": "3.13.2"
  }
 },
 "nbformat": 4,
 "nbformat_minor": 2
}
