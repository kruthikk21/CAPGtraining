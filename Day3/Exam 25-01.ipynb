{
 "cells": [
  {
   "cell_type": "code",
   "execution_count": 1,
   "metadata": {},
   "outputs": [
    {
     "name": "stdout",
     "output_type": "stream",
     "text": [
      "Prime numbers between 20 and 40:\n",
      "23 29 31 37 \n"
     ]
    }
   ],
   "source": [
    "def is_prime(num):\n",
    "    if num <= 1:\n",
    "        return False\n",
    "    for i in range(2, int(num**0.5) + 1):\n",
    "        if num % i == 0:\n",
    "            return False\n",
    "    return True\n",
    "\n",
    "def print_primes_in_range(start, end):\n",
    "    print(f\"Prime numbers between {start} and {end}:\")\n",
    "    for number in range(start, end + 1):\n",
    "        if is_prime(number):\n",
    "            print(number, end=\" \")\n",
    "    print()\n",
    "\n",
    "\n",
    "starting = int(input(\"Enter the starting number: \"))\n",
    "ending = int(input(\"Enter the ending number: \"))\n",
    "print_primes_in_range(starting, ending)\n"
   ]
  },
  {
   "cell_type": "code",
   "execution_count": 3,
   "metadata": {},
   "outputs": [
    {
     "name": "stdout",
     "output_type": "stream",
     "text": [
      "amount of 50000 loan is approved\n"
     ]
    }
   ],
   "source": [
    "salary=int(input(\"enter the salary:\"))\n",
    "age=int(input(\"enter the age:\"))\n",
    "credit_score=int(input(\"enter the credit score\"))\n",
    "\n",
    "if salary>30000 and age>=24 and credit_score>800:\n",
    "    print(\"loan of 100000 approved\")\n",
    "elif salary>20000 and age>=22 and credit_score>750:\n",
    "    print(\"amount of 50000 loan is approved\")\n",
    "else:\n",
    "    print(\"Your loan is rejected\")\n",
    "    \n",
    "\n"
   ]
  },
  {
   "cell_type": "code",
   "execution_count": 5,
   "metadata": {},
   "outputs": [
    {
     "name": "stdout",
     "output_type": "stream",
     "text": [
      "enter the option for the conversion\n"
     ]
    }
   ],
   "source": [
    "def celsius_to_fahrenheit(celsius):\n",
    "    return (celsius*9/5)+32\n",
    "\n",
    "def celsius_to_kelvin(celsius):\n",
    "    return celsius+273.15\n",
    "\n",
    "def fahrenheit_to_celsius(fahrenheit):\n",
    "    return (fahrenheit-32)*5/9\n",
    "def main():\n",
    "    option=int(input(\"enter the conversion\"))\n",
    "    print(\"enter the option for the conversion\")\n",
    "    if(option==1):\n",
    "        celsius=int(input(\"enter temperature in celsius\"))\n",
    "        celsius_to_fahrenheit(celsius)\n",
    "    elif(option==2):\n",
    "        celsius=int(input(\"enter temperature in celsius\"))\n",
    "        celsius_to_kelvin(celsius)\n",
    "    elif(option==3):\n",
    "        fahrenhit=int(input(\"enter temperature in fahrenhit\"))\n",
    "        fahrenheit_to_celsius(fahrenhit)\n",
    "main()"
   ]
  },
  {
   "cell_type": "code",
   "execution_count": 6,
   "metadata": {},
   "outputs": [
    {
     "name": "stdout",
     "output_type": "stream",
     "text": [
      "Enter the option for the conversion:\n",
      "1.Celsius to Fahrenheit\n",
      "2.Celsius to Kelvin\n",
      "3.Fahrenheit to Celsius\n",
      "24.0 Celsius= 297.15 Kelvin\n"
     ]
    }
   ],
   "source": [
    "def celsius_to_fahrenheit(celsius):\n",
    "    return (celsius * 9 / 5) + 32\n",
    "\n",
    "def celsius_to_kelvin(celsius):\n",
    "    return celsius + 273.15\n",
    "\n",
    "def fahrenheit_to_celsius(fahrenheit):\n",
    "    return (fahrenheit - 32) * 5 / 9\n",
    "\n",
    "def main():\n",
    "    print(\"Enter the option for the conversion:\")\n",
    "    print(\"1.Celsius to Fahrenheit\")\n",
    "    print(\"2.Celsius to Kelvin\")\n",
    "    print(\"3.Fahrenheit to Celsius\")\n",
    "    option = int(input(\"Select an option \"))\n",
    "    if option==1:\n",
    "        celsius = float(input(\"Enter temperature in Celsius: \"))\n",
    "        print(f\"{celsius} Celsius={celsius_to_fahrenheit(celsius): } Fahrenheit\")\n",
    "    elif option==2:\n",
    "        celsius = float(input(\"Enter temperature in Celsius: \"))\n",
    "        print(f\"{celsius} Celsius={celsius_to_kelvin(celsius): } Kelvin\")\n",
    "    elif option==3:\n",
    "        fahrenheit = float(input(\"Enter temperature in Fahrenheit: \"))\n",
    "        print(f\"{fahrenheit} Fahrenheit={fahrenheit_to_celsius(fahrenheit): } Celsius\")\n",
    "    else:\n",
    "        print(\"Invalid\")\n",
    "main()\n"
   ]
  },
  {
   "cell_type": "code",
   "execution_count": null,
   "metadata": {},
   "outputs": [],
   "source": [
    "def check_balance(balance):\n",
    "    print(f\"your current balance is{balance}\")\n",
    "def deposit(balance):\n",
    "    amount=int(input(\"enter the amount to deposit\"))\n",
    "    if amount<=0:\n",
    "        print(\"invalid request\")\n",
    "    else:\n",
    "        balance=balance+amount\n",
    "        print(\"successfully deposited\")\n",
    "        return balance\n",
    "def withdraw(balance):\n",
    "   amount1=int(input(\"enter the amount to be withdrawn\"))\n",
    "   if(amount1<=0):\n",
    "       print(\"Invalid request made\")\n",
    "   else:\n",
    "       balance=balance-amount1\n",
    "       print(\"successfully withdrawn\")\n",
    "       return balance\n",
    "def main():\n",
    "    balance=0\n",
    "    while True:\n",
    "        print(\"1.Check Balance\")\n",
    "        print(\"2.Deposit Money\")\n",
    "        print(\"3.Withdraw Money\")\n",
    "        option= input(\"Choose an option (1-4): \")\n",
    "\n",
    "        if option == \"1\":\n",
    "            check_balance(balance)\n",
    "        elif option == \"2\":\n",
    "            balance = deposit(balance)\n",
    "        elif option == \"3\":\n",
    "            balance = withdraw(balance)\n",
    "            break\n",
    "        else:\n",
    "            print(\"Invalid option. Please try again.\")\n",
    "main()\n",
    "        \n"
   ]
  },
  {
   "cell_type": "code",
   "execution_count": 10,
   "metadata": {},
   "outputs": [
    {
     "name": "stdout",
     "output_type": "stream",
     "text": [
      "20*1=20\n",
      "20*2=40\n",
      "20*3=60\n",
      "20*4=80\n",
      "20*5=100\n",
      "20*6=120\n",
      "20*7=140\n",
      "20*8=160\n",
      "20*9=180\n",
      "20*10=200\n",
      "20*11=220\n",
      "20*12=240\n",
      "20*13=260\n",
      "20*14=280\n",
      "20*15=300\n",
      "20*16=320\n",
      "20*17=340\n",
      "20*18=360\n",
      "20*19=380\n",
      "20*20=400\n",
      "20*21=420\n"
     ]
    }
   ],
   "source": [
    "number=int(input(\"enter the number for table\"))\n",
    "start=int(input(\"enter starting range for table\"))\n",
    "end=int(input(\"enter end of table\"))\n",
    "for i in range(start,end):\n",
    " \n",
    " print(f\"{number}*{i}={number*i}\")"
   ]
  },
  {
   "cell_type": "code",
   "execution_count": 12,
   "metadata": {},
   "outputs": [
    {
     "name": "stdout",
     "output_type": "stream",
     "text": [
      "each member has to pay 55\n"
     ]
    }
   ],
   "source": [
    "bill=int(input(\"total bill:\"))\n",
    "number_of_members=int(input(\"members:\"))\n",
    "tip=int(input(\"any tip if provided\"))\n",
    "result=(bill+tip)//number_of_members\n",
    "print(f\"each member has to pay {result}\")"
   ]
  },
  {
   "cell_type": "code",
   "execution_count": 16,
   "metadata": {},
   "outputs": [
    {
     "name": "stdout",
     "output_type": "stream",
     "text": [
      "*\n",
      "**\n",
      "***\n",
      "****\n",
      "*****\n"
     ]
    }
   ],
   "source": [
    "n = int(input(\"Enter number: \"))\n",
    "for i in range(1,n+1):\n",
    "    print(\"*\"*i)\n",
    "\n"
   ]
  },
  {
   "cell_type": "code",
   "execution_count": 18,
   "metadata": {},
   "outputs": [
    {
     "name": "stdout",
     "output_type": "stream",
     "text": [
      "1\n",
      "2\n",
      "Fizz\n",
      "4\n",
      "Buzz\n",
      "Fizz\n",
      "7\n",
      "8\n",
      "Fizz\n",
      "Buzz\n",
      "11\n",
      "Fizz\n",
      "13\n",
      "14\n",
      "Fizz\n",
      "16\n",
      "17\n",
      "Fizz\n",
      "19\n",
      "Buzz\n",
      "Fizz\n",
      "22\n",
      "23\n",
      "Fizz\n",
      "Buzz\n",
      "26\n",
      "Fizz\n",
      "28\n",
      "29\n",
      "Fizz\n",
      "31\n",
      "32\n",
      "Fizz\n",
      "34\n",
      "Buzz\n",
      "Fizz\n",
      "37\n",
      "38\n",
      "Fizz\n",
      "Buzz\n",
      "41\n",
      "Fizz\n",
      "43\n",
      "44\n",
      "Fizz\n",
      "46\n",
      "47\n",
      "Fizz\n",
      "49\n",
      "Buzz\n",
      "Fizz\n",
      "52\n",
      "53\n",
      "Fizz\n",
      "Buzz\n",
      "56\n",
      "Fizz\n",
      "58\n",
      "59\n",
      "Fizz\n",
      "61\n",
      "62\n",
      "Fizz\n",
      "64\n",
      "Buzz\n",
      "Fizz\n",
      "67\n",
      "68\n",
      "Fizz\n",
      "Buzz\n",
      "71\n",
      "Fizz\n",
      "73\n",
      "74\n",
      "Fizz\n",
      "76\n",
      "77\n",
      "Fizz\n",
      "79\n",
      "Buzz\n",
      "Fizz\n",
      "82\n",
      "83\n",
      "Fizz\n",
      "Buzz\n",
      "86\n",
      "Fizz\n",
      "88\n",
      "89\n",
      "Fizz\n",
      "91\n",
      "92\n",
      "Fizz\n",
      "94\n",
      "Buzz\n",
      "Fizz\n",
      "97\n",
      "98\n",
      "Fizz\n"
     ]
    }
   ],
   "source": [
    "n=100\n",
    "for i in range (1,n):\n",
    "    if(i%3==0 and i%5==0):\n",
    "        print(\"Fizz\")\n",
    "    elif(i%5==0):\n",
    "        print(\"Buzz\")\n",
    "    elif(i%3==0 ):\n",
    "        print(\"Fizz\")\n",
    "    else:\n",
    "        print(i)\n"
   ]
  },
  {
   "cell_type": "code",
   "execution_count": 19,
   "metadata": {},
   "outputs": [
    {
     "name": "stdout",
     "output_type": "stream",
     "text": [
      "the BMI of person is2\n",
      "Underweight\n"
     ]
    }
   ],
   "source": [
    "weight=int(input(\"Enter the weight:\"))\n",
    "height=int(input(\"Enter the height:\"))\n",
    "result=weight//height\n",
    "print(f\"the BMI of person is{result}\")\n",
    "if result>60:\n",
    "    print(\"overweight\")\n",
    "elif result<60 and result>40:\n",
    "    prin(\"normal\")\n",
    "else:\n",
    "    print(\"Underweight\")"
   ]
  },
  {
   "cell_type": "code",
   "execution_count": 21,
   "metadata": {},
   "outputs": [
    {
     "name": "stdout",
     "output_type": "stream",
     "text": [
      "[1, 3, 3]\n",
      "[56, 34, 56, 2, 4, 6, 4]\n"
     ]
    }
   ],
   "source": [
    "numbers=[1,3,56,34,56,2,4,6,4,3]\n",
    "odd=[]\n",
    "even=[]\n",
    "for item in numbers:\n",
    "    if item%2==0:\n",
    "        even.append(item)\n",
    "    else:\n",
    "        odd.append(item)\n",
    "print(odd)\n",
    "print(even)\n"
   ]
  },
  {
   "cell_type": "code",
   "execution_count": null,
   "metadata": {},
   "outputs": [],
   "source": []
  }
 ],
 "metadata": {
  "kernelspec": {
   "display_name": "Python 3",
   "language": "python",
   "name": "python3"
  },
  "language_info": {
   "codemirror_mode": {
    "name": "ipython",
    "version": 3
   },
   "file_extension": ".py",
   "mimetype": "text/x-python",
   "name": "python",
   "nbconvert_exporter": "python",
   "pygments_lexer": "ipython3",
   "version": "3.13.1"
  }
 },
 "nbformat": 4,
 "nbformat_minor": 2
}
