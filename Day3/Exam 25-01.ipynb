{
 "cells": [
  {
   "cell_type": "code",
   "execution_count": 1,
   "metadata": {},
   "outputs": [
    {
     "name": "stdout",
     "output_type": "stream",
     "text": [
      "Prime numbers between 20 and 40:\n",
      "23 29 31 37 \n"
     ]
    }
   ],
   "source": [
    "#prime number in a range(6th question)\n",
    "\n",
    "def is_prime(num):\n",
    "    if num <= 1:\n",
    "        return False\n",
    "    for i in range(2, int(num**0.5) + 1):\n",
    "        if num % i == 0:\n",
    "            return False\n",
    "    return True\n",
    "\n",
    "def print_primes_in_range(start, end):\n",
    "    print(f\"Prime numbers between {start} and {end}:\")\n",
    "    for number in range(start, end + 1):\n",
    "        if is_prime(number):\n",
    "            print(number, end=\" \")\n",
    "    print()\n",
    "\n",
    "\n",
    "starting = int(input(\"Enter the starting number: \"))\n",
    "ending = int(input(\"Enter the ending number: \"))\n",
    "print_primes_in_range(starting, ending)\n"
   ]
  },
  {
   "cell_type": "code",
   "execution_count": 3,
   "metadata": {},
   "outputs": [
    {
     "name": "stdout",
     "output_type": "stream",
     "text": [
      "amount of 50000 loan is approved\n"
     ]
    }
   ],
   "source": [
    "\n",
    "#Bank loan eligibility(7th question)\n",
    "\n",
    "salary=int(input(\"enter the salary:\"))\n",
    "age=int(input(\"enter the age:\"))\n",
    "credit_score=int(input(\"enter the credit score\"))\n",
    "\n",
    "if salary>30000 and age>=24 and credit_score>800:\n",
    "    print(\"loan of 100000 approved\")\n",
    "elif salary>20000 and age>=22 and credit_score>750:\n",
    "    print(\"amount of 50000 loan is approved\")\n",
    "else:\n",
    "    print(\"Your loan is rejected\")\n",
    "    \n",
    "\n"
   ]
  },
  {
   "cell_type": "code",
   "execution_count": 6,
   "metadata": {},
   "outputs": [
    {
     "name": "stdout",
     "output_type": "stream",
     "text": [
      "Enter the option for the conversion:\n",
      "1.Celsius to Fahrenheit\n",
      "2.Celsius to Kelvin\n",
      "3.Fahrenheit to Celsius\n",
      "24.0 Celsius= 297.15 Kelvin\n"
     ]
    }
   ],
   "source": [
    "#Temperature conversion(2nd question)\n",
    "\n",
    "def celsius_to_fahrenheit(celsius):\n",
    "    return (celsius * 9 / 5) + 32\n",
    "\n",
    "def celsius_to_kelvin(celsius):\n",
    "    return celsius + 273.15\n",
    "\n",
    "def fahrenheit_to_celsius(fahrenheit):\n",
    "    return (fahrenheit - 32) * 5 / 9\n",
    "\n",
    "def main():\n",
    "    print(\"Enter the option for the conversion:\")\n",
    "    print(\"1.Celsius to Fahrenheit\")\n",
    "    print(\"2.Celsius to Kelvin\")\n",
    "    print(\"3.Fahrenheit to Celsius\")\n",
    "    option = int(input(\"Select an option \"))\n",
    "    if option==1:\n",
    "        celsius = float(input(\"Enter temperature in Celsius: \"))\n",
    "        print(f\"{celsius} Celsius={celsius_to_fahrenheit(celsius): } Fahrenheit\")\n",
    "    elif option==2:\n",
    "        celsius = float(input(\"Enter temperature in Celsius: \"))\n",
    "        print(f\"{celsius} Celsius={celsius_to_kelvin(celsius): } Kelvin\")\n",
    "    elif option==3:\n",
    "        fahrenheit = float(input(\"Enter temperature in Fahrenheit: \"))\n",
    "        print(f\"{fahrenheit} Fahrenheit={fahrenheit_to_celsius(fahrenheit): } Celsius\")\n",
    "    else:\n",
    "        print(\"Invalid\")\n",
    "main()\n"
   ]
  },
  {
   "cell_type": "code",
   "execution_count": null,
   "metadata": {},
   "outputs": [],
   "source": [
    "#ATM simulation(1st question)\n",
    "\n",
    "def check_balance(balance):\n",
    "    print(f\"your current balance is{balance}\")\n",
    "def deposit(balance):\n",
    "    amount=int(input(\"enter the amount to deposit\"))\n",
    "    if amount<=0:\n",
    "        print(\"invalid request\")\n",
    "    else:\n",
    "        balance=balance+amount\n",
    "        print(\"successfully deposited\")\n",
    "        return balance\n",
    "def withdraw(balance):\n",
    "   amount1=int(input(\"enter the amount to be withdrawn\"))\n",
    "   if(amount1<=0):\n",
    "       print(\"Invalid request made\")\n",
    "   else:\n",
    "       balance=balance-amount1\n",
    "       print(\"successfully withdrawn\")\n",
    "       return balance\n",
    "def main():\n",
    "    balance=0\n",
    "    while True:\n",
    "        print(\"1.Check Balance\")\n",
    "        print(\"2.Deposit Money\")\n",
    "        print(\"3.Withdraw Money\")\n",
    "        option= input(\"Choose an option (1-4): \")\n",
    "\n",
    "        if option == \"1\":\n",
    "            check_balance(balance)\n",
    "        elif option == \"2\":\n",
    "            balance = deposit(balance)\n",
    "        elif option == \"3\":\n",
    "            balance = withdraw(balance)\n",
    "            break\n",
    "        else:\n",
    "            print(\"Invalid option. Please try again.\")\n",
    "main()\n",
    "        \n"
   ]
  },
  {
   "cell_type": "code",
   "execution_count": 10,
   "metadata": {},
   "outputs": [
    {
     "name": "stdout",
     "output_type": "stream",
     "text": [
      "20*1=20\n",
      "20*2=40\n",
      "20*3=60\n",
      "20*4=80\n",
      "20*5=100\n",
      "20*6=120\n",
      "20*7=140\n",
      "20*8=160\n",
      "20*9=180\n",
      "20*10=200\n",
      "20*11=220\n",
      "20*12=240\n",
      "20*13=260\n",
      "20*14=280\n",
      "20*15=300\n",
      "20*16=320\n",
      "20*17=340\n",
      "20*18=360\n",
      "20*19=380\n",
      "20*20=400\n",
      "20*21=420\n"
     ]
    }
   ],
   "source": [
    "#Multiplication table generator(8th Question)\n",
    "\n",
    "number=int(input(\"enter the number for table\"))\n",
    "start=int(input(\"enter starting range for table\"))\n",
    "end=int(input(\"enter end of table\"))\n",
    "for i in range(start,end):\n",
    " \n",
    " print(f\"{number}*{i}={number*i}\")"
   ]
  },
  {
   "cell_type": "code",
   "execution_count": 12,
   "metadata": {},
   "outputs": [
    {
     "name": "stdout",
     "output_type": "stream",
     "text": [
      "each member has to pay 55\n"
     ]
    }
   ],
   "source": [
    "#Bill splitter(10th Question)\n",
    "\n",
    "bill=int(input(\"total bill:\"))\n",
    "number_of_members=int(input(\"members:\"))\n",
    "tip=int(input(\"any tip if provided\"))\n",
    "result=(bill+tip)//number_of_members\n",
    "print(f\"each member has to pay {result}\")"
   ]
  },
  {
   "cell_type": "code",
   "execution_count": 16,
   "metadata": {},
   "outputs": [
    {
     "name": "stdout",
     "output_type": "stream",
     "text": [
      "*\n",
      "**\n",
      "***\n",
      "****\n",
      "*****\n"
     ]
    }
   ],
   "source": [
    "#Pattern printing(12th question)\n",
    "\n",
    "n = int(input(\"Enter number: \"))\n",
    "for i in range(1,n+1):\n",
    "    print(\"*\"*i)\n",
    "\n"
   ]
  },
  {
   "cell_type": "code",
   "execution_count": 18,
   "metadata": {},
   "outputs": [
    {
     "name": "stdout",
     "output_type": "stream",
     "text": [
      "1\n",
      "2\n",
      "Fizz\n",
      "4\n",
      "Buzz\n",
      "Fizz\n",
      "7\n",
      "8\n",
      "Fizz\n",
      "Buzz\n",
      "11\n",
      "Fizz\n",
      "13\n",
      "14\n",
      "Fizz\n",
      "16\n",
      "17\n",
      "Fizz\n",
      "19\n",
      "Buzz\n",
      "Fizz\n",
      "22\n",
      "23\n",
      "Fizz\n",
      "Buzz\n",
      "26\n",
      "Fizz\n",
      "28\n",
      "29\n",
      "Fizz\n",
      "31\n",
      "32\n",
      "Fizz\n",
      "34\n",
      "Buzz\n",
      "Fizz\n",
      "37\n",
      "38\n",
      "Fizz\n",
      "Buzz\n",
      "41\n",
      "Fizz\n",
      "43\n",
      "44\n",
      "Fizz\n",
      "46\n",
      "47\n",
      "Fizz\n",
      "49\n",
      "Buzz\n",
      "Fizz\n",
      "52\n",
      "53\n",
      "Fizz\n",
      "Buzz\n",
      "56\n",
      "Fizz\n",
      "58\n",
      "59\n",
      "Fizz\n",
      "61\n",
      "62\n",
      "Fizz\n",
      "64\n",
      "Buzz\n",
      "Fizz\n",
      "67\n",
      "68\n",
      "Fizz\n",
      "Buzz\n",
      "71\n",
      "Fizz\n",
      "73\n",
      "74\n",
      "Fizz\n",
      "76\n",
      "77\n",
      "Fizz\n",
      "79\n",
      "Buzz\n",
      "Fizz\n",
      "82\n",
      "83\n",
      "Fizz\n",
      "Buzz\n",
      "86\n",
      "Fizz\n",
      "88\n",
      "89\n",
      "Fizz\n",
      "91\n",
      "92\n",
      "Fizz\n",
      "94\n",
      "Buzz\n",
      "Fizz\n",
      "97\n",
      "98\n",
      "Fizz\n"
     ]
    }
   ],
   "source": [
    "#FizzBuzz problem(20th Question)\n",
    "\n",
    "n=100\n",
    "for i in range (1,n):\n",
    "    if(i%3==0 and i%5==0):\n",
    "        print(\"Fizz\")\n",
    "    elif(i%5==0):\n",
    "        print(\"Buzz\")\n",
    "    elif(i%3==0 ):\n",
    "        print(\"Fizz\")\n",
    "    else:\n",
    "        print(i)\n"
   ]
  },
  {
   "cell_type": "code",
   "execution_count": 19,
   "metadata": {},
   "outputs": [
    {
     "name": "stdout",
     "output_type": "stream",
     "text": [
      "the BMI of person is2\n",
      "Underweight\n"
     ]
    }
   ],
   "source": [
    "#BMI problem(18th question)\n",
    "\n",
    "weight=int(input(\"Enter the weight:\"))\n",
    "height=int(input(\"Enter the height:\"))\n",
    "result=weight//height\n",
    "print(f\"the BMI of person is{result}\")\n",
    "if result>60:\n",
    "    print(\"overweight\")\n",
    "elif result<60 and result>40:\n",
    "    prin(\"normal\")\n",
    "else:\n",
    "    print(\"Underweight\")"
   ]
  },
  {
   "cell_type": "code",
   "execution_count": 21,
   "metadata": {},
   "outputs": [
    {
     "name": "stdout",
     "output_type": "stream",
     "text": [
      "[1, 3, 3]\n",
      "[56, 34, 56, 2, 4, 6, 4]\n"
     ]
    }
   ],
   "source": [
    "#Odd Even seperator(Question 16)\n",
    "\n",
    "numbers=[1,3,56,34,56,2,4,6,4,3]\n",
    "odd=[]\n",
    "even=[]\n",
    "for item in numbers:\n",
    "    if item%2==0:\n",
    "        even.append(item)\n",
    "    else:\n",
    "        odd.append(item)\n",
    "print(odd)\n",
    "print(even)\n"
   ]
  },
  {
   "cell_type": "code",
   "execution_count": 1,
   "metadata": {},
   "outputs": [
    {
     "ename": "ValueError",
     "evalue": "invalid literal for int() with base 10: ''",
     "output_type": "error",
     "traceback": [
      "\u001b[1;31m---------------------------------------------------------------------------\u001b[0m",
      "\u001b[1;31mValueError\u001b[0m                                Traceback (most recent call last)",
      "Cell \u001b[1;32mIn[1], line 18\u001b[0m\n\u001b[0;32m     16\u001b[0m             \u001b[38;5;28mprint\u001b[39m(\u001b[38;5;124mf\u001b[39m\u001b[38;5;124m\"\u001b[39m\u001b[38;5;124mCongratulations! You\u001b[39m\u001b[38;5;124m'\u001b[39m\u001b[38;5;124mve guessed the number in \u001b[39m\u001b[38;5;132;01m{\u001b[39;00mattempts\u001b[38;5;132;01m}\u001b[39;00m\u001b[38;5;124m attempts.\u001b[39m\u001b[38;5;124m\"\u001b[39m)\n\u001b[0;32m     17\u001b[0m             \u001b[38;5;28;01mbreak\u001b[39;00m\n\u001b[1;32m---> 18\u001b[0m \u001b[43mguessNumber\u001b[49m\u001b[43m(\u001b[49m\u001b[43m)\u001b[49m\n",
      "Cell \u001b[1;32mIn[1], line 8\u001b[0m, in \u001b[0;36mguessNumber\u001b[1;34m()\u001b[0m\n\u001b[0;32m      5\u001b[0m attempts \u001b[38;5;241m=\u001b[39m \u001b[38;5;241m0\u001b[39m\n\u001b[0;32m      7\u001b[0m \u001b[38;5;28;01mwhile\u001b[39;00m \u001b[38;5;28;01mTrue\u001b[39;00m:\n\u001b[1;32m----> 8\u001b[0m     user_guess \u001b[38;5;241m=\u001b[39m \u001b[38;5;28;43mint\u001b[39;49m\u001b[43m(\u001b[49m\u001b[38;5;28;43minput\u001b[39;49m\u001b[43m(\u001b[49m\u001b[38;5;124;43m\"\u001b[39;49m\u001b[38;5;124;43mGuess the number between 1 and 100: \u001b[39;49m\u001b[38;5;124;43m\"\u001b[39;49m\u001b[43m)\u001b[49m\u001b[43m)\u001b[49m\n\u001b[0;32m      9\u001b[0m     attempts \u001b[38;5;241m+\u001b[39m\u001b[38;5;241m=\u001b[39m \u001b[38;5;241m1\u001b[39m\n\u001b[0;32m     11\u001b[0m     \u001b[38;5;28;01mif\u001b[39;00m user_guess \u001b[38;5;241m<\u001b[39m numbertoguess:\n",
      "\u001b[1;31mValueError\u001b[0m: invalid literal for int() with base 10: ''"
     ]
    }
   ],
   "source": [
    "#Random number game(3rd question)\n",
    "\n",
    "import random\n",
    "\n",
    "def guessNumber():\n",
    "    numbertoguess = random.randint(1, 100)\n",
    "    attempts = 0\n",
    "\n",
    "    while True:\n",
    "        user_guess = int(input(\"Guess the number between 1 and 100: \"))\n",
    "        attempts += 1\n",
    "\n",
    "        if user_guess < numbertoguess:\n",
    "            print(\"Too Low!\")\n",
    "        elif user_guess > numbertoguess:\n",
    "            print(\"Too High!\")\n",
    "        else:\n",
    "            print(f\"Congratulations! You've guessed the number in {attempts} attempts.\")\n",
    "            break\n",
    "guessNumber()"
   ]
  },
  {
   "cell_type": "code",
   "execution_count": 2,
   "metadata": {},
   "outputs": [
    {
     "name": "stdout",
     "output_type": "stream",
     "text": [
      "Total Marks:  57\n",
      "Percentage:  28.499999999999996\n",
      "Grade: Fail\n"
     ]
    }
   ],
   "source": [
    "#Student Grading System(4th question)\n",
    "\n",
    "number_of_subjects = int(input(\"Enter the number of subjects: \"))\n",
    "marks = []\n",
    "for i in range(number_of_subjects):\n",
    "    marks.append(int(input(f\"Enter the marks for subject {i+1}: \")))\n",
    "print(\"Total Marks: \", sum(marks))\n",
    "print(\"Percentage: \", sum(marks)/(number_of_subjects*100)*100)\n",
    "percentage = sum(marks)/(number_of_subjects*100)*100\n",
    "if percentage >= 80:\n",
    "    print(\"Grade: A\")\n",
    "elif percentage >= 60:\n",
    "    print(\"Grade: B\")\n",
    "elif percentage >= 40:\n",
    "    print(\"Grade: C\")\n",
    "else:\n",
    "    print(\"Grade: Fail\")"
   ]
  },
  {
   "cell_type": "code",
   "execution_count": 4,
   "metadata": {},
   "outputs": [
    {
     "name": "stdout",
     "output_type": "stream",
     "text": [
      "1. Add to cart\n",
      "2. Remove from cart\n",
      "3. View cart\n",
      "4. Checkout\n",
      "5. Quit\n",
      "Items in store:\n",
      "1. apple - 30\n",
      "2. banana - 40\n",
      "3. cherry - 50\n",
      "4. grapes - 60\n",
      "5. mango - 70\n",
      "1. Add to cart\n",
      "2. Remove from cart\n",
      "3. View cart\n",
      "4. Checkout\n",
      "5. Quit\n",
      "Items in cart:\n",
      "2. banana - 40\n",
      "1. Add to cart\n",
      "2. Remove from cart\n",
      "3. View cart\n",
      "4. Checkout\n",
      "5. Quit\n"
     ]
    },
    {
     "ename": "ValueError",
     "evalue": "invalid literal for int() with base 10: ''",
     "output_type": "error",
     "traceback": [
      "\u001b[1;31m---------------------------------------------------------------------------\u001b[0m",
      "\u001b[1;31mValueError\u001b[0m                                Traceback (most recent call last)",
      "Cell \u001b[1;32mIn[4], line 35\u001b[0m\n\u001b[0;32m     33\u001b[0m \u001b[38;5;28mprint\u001b[39m(\u001b[38;5;124m\"\u001b[39m\u001b[38;5;124m4. Checkout\u001b[39m\u001b[38;5;124m\"\u001b[39m)\n\u001b[0;32m     34\u001b[0m \u001b[38;5;28mprint\u001b[39m(\u001b[38;5;124m\"\u001b[39m\u001b[38;5;124m5. Quit\u001b[39m\u001b[38;5;124m\"\u001b[39m)\n\u001b[1;32m---> 35\u001b[0m option \u001b[38;5;241m=\u001b[39m \u001b[38;5;28;43mint\u001b[39;49m\u001b[43m(\u001b[49m\u001b[38;5;28;43minput\u001b[39;49m\u001b[43m(\u001b[49m\u001b[38;5;124;43m\"\u001b[39;49m\u001b[38;5;124;43mEnter your option: \u001b[39;49m\u001b[38;5;124;43m\"\u001b[39;49m\u001b[43m)\u001b[49m\u001b[43m)\u001b[49m\n\u001b[0;32m     36\u001b[0m \u001b[38;5;28;01mif\u001b[39;00m option \u001b[38;5;241m==\u001b[39m \u001b[38;5;241m1\u001b[39m:\n\u001b[0;32m     37\u001b[0m     addtocart()\n",
      "\u001b[1;31mValueError\u001b[0m: invalid literal for int() with base 10: ''"
     ]
    }
   ],
   "source": [
    "#shopping cart(5th question)\n",
    "\n",
    "def showcart():\n",
    "    print(\"Items in cart:\")\n",
    "    for i in cart:\n",
    "        print(f\"{i}. {items[i-1]} - {prices[i-1]}\")\n",
    "\n",
    "def addtocart():\n",
    "    print(\"Items in store:\")\n",
    "    for i in range(len(items)):\n",
    "        print(f\"{i+1}. {items[i]} - {prices[i]}\")\n",
    "    item = int(input(\"Enter the item number to add to cart: \"))\n",
    "    cart.append(item)\n",
    "\n",
    "def removefromcart():\n",
    "    showcart()\n",
    "    item = int(input(\"Enter the item number to remove from cart: \"))\n",
    "    cart.remove(item)\n",
    "\n",
    "def checkout():\n",
    "    total = 0\n",
    "    showcart()\n",
    "    for i in cart:\n",
    "        total += prices[i-1]\n",
    "    print(\"Total Amount: \", total)\n",
    "\n",
    "items=[\"apple\",\"banana\",\"cherry\",\"grapes\",\"mango\"]\n",
    "prices=[30,40,50,60,70]\n",
    "cart=[]\n",
    "\n",
    "while True:\n",
    "    print(\"1. Add to cart\")\n",
    "    print(\"2. Remove from cart\")\n",
    "    print(\"3. View cart\")\n",
    "    print(\"4. Checkout\")\n",
    "    print(\"5. Quit\")\n",
    "    option = int(input(\"Enter your option: \"))\n",
    "    if option == 1:\n",
    "        addtocart()\n",
    "    elif option == 2:\n",
    "        removefromcart()\n",
    "    elif option == 3:\n",
    "        showcart()\n",
    "    elif option == 4:\n",
    "        checkout()\n",
    "    elif option == 5:\n",
    "        break\n",
    "    else:\n",
    "        print(\"Invalid Option\")"
   ]
  },
  {
   "cell_type": "code",
   "execution_count": null,
   "metadata": {},
   "outputs": [],
   "source": [
    "#String analyzer(9th question)\n",
    "\n",
    "string = input(\"Enter a string: \")\n",
    "vowels = 0\n",
    "consonants = 0\n",
    "digits = 0\n",
    "special_characters = 0\n",
    "for i in string:\n",
    "    if i.isalpha():\n",
    "        if i in \"aeiouAEIOU\":\n",
    "            vowels += 1\n",
    "        else:\n",
    "            consonants += 1\n",
    "    elif i.isdigit():\n",
    "        digits += 1\n",
    "    else:\n",
    "        special_characters += 1\n",
    "print(\"Vowels: \", vowels)\n",
    "print(\"Consonants: \", consonants)\n",
    "print(\"Digits: \", digits)\n",
    "print(\"Special Characters: \", special_characters)\n",
    "print(\"Reverse\", string[::-1])"
   ]
  },
  {
   "cell_type": "code",
   "execution_count": null,
   "metadata": {},
   "outputs": [],
   "source": [
    "#password strength checker(11th question)\n",
    "\n",
    "def checkpassword(password):\n",
    "    if len(password) < 8:\n",
    "        return \"Password is too short\"\n",
    "    elif len(password)>8:\n",
    "        if not any(i.isupper() for i in password):\n",
    "            return \"Password must have at least one uppercase letter\"\n",
    "        if not any(i.islower() for i in password):\n",
    "            return \"Password must have at least one lowercase letter\"\n",
    "        if not any(i.isdigit() for i in password):\n",
    "            return \"Password must have at least one digit\"\n",
    "        special_characters = \"!@#$%^&*()-+\"\n",
    "        if not any(i in special_characters for i in password):\n",
    "            return \"Password must have at least one special character\"\n",
    "        return \"Password is strong\"\n",
    "password = input(\"Enter a password: \")\n"
   ]
  },
  {
   "cell_type": "code",
   "execution_count": null,
   "metadata": {},
   "outputs": [],
   "source": [
    "#Palindrome checker(13th Question)\n",
    "\n",
    "while True:\n",
    "    palindrome = input(\"Enter a word to check if it is a palindrome: \")\n",
    "    if palindrome == palindrome[::-1]:\n",
    "        print(\"Palindrome\")\n",
    "    else:\n",
    "        print(\"Not a palindrome\")\n",
    "    opt=input(\"Do you want to continue? (y/n): \")\n",
    "    if opt=='n':\n",
    "        break\n"
   ]
  },
  {
   "cell_type": "code",
   "execution_count": null,
   "metadata": {},
   "outputs": [],
   "source": [
    "#Factorial(14th question)\n",
    "\n",
    "def factorial(n):\n",
    "    if n == 0:\n",
    "        return 1\n",
    "    else:\n",
    "        return n * factorial(n-1)\n",
    "n = int(input(\"Enter the number: \"))\n",
    "if(n<0):\n",
    "    print(\"Factorial does not exist for negative numbers\")\n",
    "else:\n",
    "    print(f\"Factorial of {n} is {factorial(n)}\")\n"
   ]
  },
  {
   "cell_type": "code",
   "execution_count": null,
   "metadata": {},
   "outputs": [],
   "source": [
    "#leapyear check(15th Question)\n",
    "\n",
    "print(\"Enter break to exit\")\n",
    "while True:\n",
    "    year = input(\"Enter the year: \")\n",
    "    if year == 'break':\n",
    "        break\n",
    "    if (int(year) % 4) == 0:\n",
    "        if (int(year) % 100) == 0:\n",
    "            if (int(year) % 400) == 0:\n",
    "                print(\"Leap year\")\n",
    "            else:\n",
    "                print(\"Not a leap year\")\n",
    "        else:\n",
    "            print(\"Leap year\")\n",
    "    else:\n",
    "        print(\"Not a leap year\")\n"
   ]
  },
  {
   "cell_type": "code",
   "execution_count": null,
   "metadata": {},
   "outputs": [],
   "source": [
    "#word counter(17th question)\n",
    "\n",
    "inp = input(\"Enter the sentence\").split()\n",
    "set1 = set(inp)\n",
    "for i in set1:\n",
    "    print(i, \":\", inp.count(i))\n"
   ]
  },
  {
   "cell_type": "code",
   "execution_count": null,
   "metadata": {},
   "outputs": [],
   "source": [
    "#Second largest element(19th Question)\n",
    "\n",
    "n = int(input(\"Enter the number of elements\"))\n",
    "lis = []\n",
    "for i in range(n):\n",
    "    ele = int(input())\n",
    "    lis.append(ele)\n",
    "lis.sort()\n",
    "print(\"Second largest element is:\", lis[-2])"
   ]
  }
 ],
 "metadata": {
  "kernelspec": {
   "display_name": "Python 3",
   "language": "python",
   "name": "python3"
  },
  "language_info": {
   "codemirror_mode": {
    "name": "ipython",
    "version": 3
   },
   "file_extension": ".py",
   "mimetype": "text/x-python",
   "name": "python",
   "nbconvert_exporter": "python",
   "pygments_lexer": "ipython3",
   "version": "3.13.2"
  }
 },
 "nbformat": 4,
 "nbformat_minor": 2
}
