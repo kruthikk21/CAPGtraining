{
 "cells": [
  {
   "cell_type": "code",
   "execution_count": 1,
   "metadata": {},
   "outputs": [
    {
     "name": "stdout",
     "output_type": "stream",
     "text": [
      " 15           RESUME                   0\n",
      "\n",
      " 16           LOAD_GLOBAL              1 (get_inp + NULL)\n",
      "              CALL                     0\n",
      "              UNPACK_SEQUENCE          2\n",
      "              STORE_FAST_STORE_FAST    1 (a, b)\n",
      "\n",
      " 17           LOAD_GLOBAL              3 (get_mul + NULL)\n",
      "              LOAD_FAST_LOAD_FAST      1 (a, b)\n",
      "              CALL                     2\n",
      "              STORE_FAST               2 (ans)\n",
      "\n",
      " 18           LOAD_GLOBAL              5 (display + NULL)\n",
      "              LOAD_FAST                2 (ans)\n",
      "              CALL                     1\n",
      "              POP_TOP\n",
      "\n",
      " 19           LOAD_GLOBAL              7 (for_loop + NULL)\n",
      "              LOAD_FAST                2 (ans)\n",
      "              CALL                     1\n",
      "              POP_TOP\n",
      "              RETURN_CONST             0 (None)\n"
     ]
    },
    {
     "ename": "ValueError",
     "evalue": "invalid literal for int() with base 10: ''",
     "output_type": "error",
     "traceback": [
      "\u001b[1;31m---------------------------------------------------------------------------\u001b[0m",
      "\u001b[1;31mValueError\u001b[0m                                Traceback (most recent call last)",
      "Cell \u001b[1;32mIn[1], line 21\u001b[0m\n\u001b[0;32m     19\u001b[0m     for_loop(ans)\n\u001b[0;32m     20\u001b[0m dis\u001b[38;5;241m.\u001b[39mdis(main)\n\u001b[1;32m---> 21\u001b[0m \u001b[43mmain\u001b[49m\u001b[43m(\u001b[49m\u001b[43m)\u001b[49m\n\u001b[0;32m     23\u001b[0m \u001b[38;5;66;03m# # import dis\u001b[39;00m\n\u001b[0;32m     24\u001b[0m \u001b[38;5;66;03m# # def add():\u001b[39;00m\n\u001b[0;32m     25\u001b[0m \u001b[38;5;66;03m#     for i in range(5):\u001b[39;00m\n\u001b[0;32m     26\u001b[0m \u001b[38;5;66;03m#         a=0\u001b[39;00m\n\u001b[0;32m     27\u001b[0m \u001b[38;5;66;03m# dis.dis(add)    \u001b[39;00m\n",
      "Cell \u001b[1;32mIn[1], line 16\u001b[0m, in \u001b[0;36mmain\u001b[1;34m()\u001b[0m\n\u001b[0;32m     15\u001b[0m \u001b[38;5;28;01mdef\u001b[39;00m\u001b[38;5;250m \u001b[39m\u001b[38;5;21mmain\u001b[39m():\n\u001b[1;32m---> 16\u001b[0m     (a,b)\u001b[38;5;241m=\u001b[39m\u001b[43mget_inp\u001b[49m\u001b[43m(\u001b[49m\u001b[43m)\u001b[49m\n\u001b[0;32m     17\u001b[0m     ans \u001b[38;5;241m=\u001b[39m get_mul(a,b)\n\u001b[0;32m     18\u001b[0m     display(ans)\n",
      "Cell \u001b[1;32mIn[1], line 3\u001b[0m, in \u001b[0;36mget_inp\u001b[1;34m()\u001b[0m\n\u001b[0;32m      2\u001b[0m \u001b[38;5;28;01mdef\u001b[39;00m\u001b[38;5;250m \u001b[39m\u001b[38;5;21mget_inp\u001b[39m():\n\u001b[1;32m----> 3\u001b[0m     a\u001b[38;5;241m=\u001b[39m\u001b[38;5;28;43mint\u001b[39;49m\u001b[43m(\u001b[49m\u001b[38;5;28;43minput\u001b[39;49m\u001b[43m(\u001b[49m\u001b[38;5;124;43m\"\u001b[39;49m\u001b[38;5;124;43mvalue of a :\u001b[39;49m\u001b[38;5;124;43m\"\u001b[39;49m\u001b[43m)\u001b[49m\u001b[43m)\u001b[49m\n\u001b[0;32m      4\u001b[0m     b\u001b[38;5;241m=\u001b[39m\u001b[38;5;28mint\u001b[39m(\u001b[38;5;28minput\u001b[39m(\u001b[38;5;124m\"\u001b[39m\u001b[38;5;124mvalue of b :\u001b[39m\u001b[38;5;124m\"\u001b[39m))\n\u001b[0;32m      5\u001b[0m     \u001b[38;5;28;01mreturn\u001b[39;00m a,b\n",
      "\u001b[1;31mValueError\u001b[0m: invalid literal for int() with base 10: ''"
     ]
    }
   ],
   "source": [
    "import dis\n",
    "def get_inp():\n",
    "    a=int(input(\"value of a :\"))\n",
    "    b=int(input(\"value of b :\"))\n",
    "    return a,b\n",
    "def get_mul(a,b):\n",
    "    a=2\n",
    "    return a*b\n",
    "def for_loop(n):\n",
    "    for i in range(n):\n",
    "        print(i)\n",
    "def display(data):\n",
    "    print(f\"the multiplied no is {data}\")\n",
    "\n",
    "def main():\n",
    "    (a,b)=get_inp()\n",
    "    ans = get_mul(a,b)\n",
    "    display(ans)\n",
    "    for_loop(ans)\n",
    "dis.dis(main)\n",
    "main()\n",
    "\n",
    "# # import dis\n",
    "# # def add():\n",
    "#     for i in range(5):\n",
    "#         a=0\n",
    "# dis.dis(add)    "
   ]
  },
  {
   "cell_type": "code",
   "execution_count": null,
   "metadata": {},
   "outputs": [],
   "source": []
  }
 ],
 "metadata": {
  "kernelspec": {
   "display_name": "Python 3",
   "language": "python",
   "name": "python3"
  },
  "language_info": {
   "codemirror_mode": {
    "name": "ipython",
    "version": 3
   },
   "file_extension": ".py",
   "mimetype": "text/x-python",
   "name": "python",
   "nbconvert_exporter": "python",
   "pygments_lexer": "ipython3",
   "version": "3.13.2"
  }
 },
 "nbformat": 4,
 "nbformat_minor": 2
}
