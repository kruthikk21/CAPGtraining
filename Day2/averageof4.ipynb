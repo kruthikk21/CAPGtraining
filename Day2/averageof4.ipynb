{
 "cells": [
  {
   "cell_type": "code",
   "execution_count": 1,
   "metadata": {},
   "outputs": [
    {
     "name": "stdout",
     "output_type": "stream",
     "text": [
      " 17           RESUME                   0\n",
      "\n",
      " 18           LOAD_FAST                0 (val)\n",
      "              LOAD_CONST               1 (4)\n",
      "              BINARY_OP               11 (/)\n",
      "              STORE_FAST               1 (avg)\n",
      "\n",
      " 19           LOAD_FAST                1 (avg)\n",
      "              RETURN_VALUE\n",
      "the average of 4 nos is :47.75\n"
     ]
    }
   ],
   "source": [
    "import dis\n",
    "\n",
    "\n",
    "def display_avg(avg):\n",
    "    print(f\"the average of 4 nos is :{avg}\")\n",
    "    \n",
    "def get_input():\n",
    "    a=(input(\"a:\"))\n",
    "    b=(input(\"b:\"))\n",
    "    c=(input(\"c:\"))\n",
    "    d=(input(\"d:\"))\n",
    "    return (a,b,c,d)   \n",
    "\n",
    "def get_sum(a,b,c,d):\n",
    "    val=(int(a)+int(b)+int(c)+int(d))\n",
    "    return val\n",
    "def get_avg(val):\n",
    "    avg=val/4\n",
    "    return avg\n",
    "def main():\n",
    "    a, b, c, d=get_input()\n",
    "    val=get_sum(a,b,c,d)\n",
    "    avg=get_avg(val)\n",
    "    display_avg(avg)\n",
    "     \n",
    "dis.dis(get_avg)\n",
    "main()"
   ]
  },
  {
   "cell_type": "code",
   "execution_count": null,
   "metadata": {},
   "outputs": [],
   "source": []
  }
 ],
 "metadata": {
  "kernelspec": {
   "display_name": "Python 3",
   "language": "python",
   "name": "python3"
  },
  "language_info": {
   "codemirror_mode": {
    "name": "ipython",
    "version": 3
   },
   "file_extension": ".py",
   "mimetype": "text/x-python",
   "name": "python",
   "nbconvert_exporter": "python",
   "pygments_lexer": "ipython3",
   "version": "3.13.1"
  }
 },
 "nbformat": 4,
 "nbformat_minor": 2
}
