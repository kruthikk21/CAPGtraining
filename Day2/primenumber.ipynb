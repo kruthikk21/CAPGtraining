{
 "cells": [
  {
   "cell_type": "code",
   "execution_count": 3,
   "metadata": {},
   "outputs": [
    {
     "ename": "NameError",
     "evalue": "name 'get_inp' is not defined",
     "output_type": "error",
     "traceback": [
      "\u001b[1;31m---------------------------------------------------------------------------\u001b[0m",
      "\u001b[1;31mNameError\u001b[0m                                 Traceback (most recent call last)",
      "Cell \u001b[1;32mIn[3], line 23\u001b[0m\n\u001b[0;32m     20\u001b[0m     a\u001b[38;5;241m=\u001b[39mget_inp()\n\u001b[0;32m     21\u001b[0m     get_prime(a)\n\u001b[1;32m---> 23\u001b[0m \u001b[43mmain\u001b[49m\u001b[43m(\u001b[49m\u001b[43m)\u001b[49m\n",
      "Cell \u001b[1;32mIn[3], line 20\u001b[0m, in \u001b[0;36mmain\u001b[1;34m()\u001b[0m\n\u001b[0;32m     19\u001b[0m \u001b[38;5;28;01mdef\u001b[39;00m\u001b[38;5;250m \u001b[39m\u001b[38;5;21mmain\u001b[39m():\n\u001b[1;32m---> 20\u001b[0m     a\u001b[38;5;241m=\u001b[39m\u001b[43mget_inp\u001b[49m()\n\u001b[0;32m     21\u001b[0m     get_prime(a)\n",
      "\u001b[1;31mNameError\u001b[0m: name 'get_inp' is not defined"
     ]
    }
   ],
   "source": [
    "import math\n",
    "def prime_or_not(n):\n",
    "   if n<=1:\n",
    "       return False\n",
    "   i=2\n",
    "   \n",
    "def get_prime(a):\n",
    "    for i in range(1,a+1):\n",
    "        if a<=1:\n",
    "            continue\n",
    "            \n",
    "        else:\n",
    "            for i in range(2,int(a**0.5)+1):\n",
    "                if (a%i==0):\n",
    "                    return False\n",
    "                else:\n",
    "                    return i\n",
    "    print(i)\n",
    "def main():\n",
    "    a=get_inp()\n",
    "    get_prime(a)\n",
    "    \n",
    "main()\n",
    "    "
   ]
  },
  {
   "cell_type": "code",
   "execution_count": null,
   "metadata": {},
   "outputs": [],
   "source": []
  }
 ],
 "metadata": {
  "kernelspec": {
   "display_name": "Python 3",
   "language": "python",
   "name": "python3"
  },
  "language_info": {
   "codemirror_mode": {
    "name": "ipython",
    "version": 3
   },
   "file_extension": ".py",
   "mimetype": "text/x-python",
   "name": "python",
   "nbconvert_exporter": "python",
   "pygments_lexer": "ipython3",
   "version": "3.13.1"
  }
 },
 "nbformat": 4,
 "nbformat_minor": 2
}
