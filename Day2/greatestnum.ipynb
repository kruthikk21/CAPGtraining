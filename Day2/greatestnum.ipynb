{
 "cells": [
  {
   "cell_type": "code",
   "execution_count": null,
   "metadata": {},
   "outputs": [],
   "source": [
    "def get_input():\n",
    "    a=int(input(\"a value is:\"))\n",
    "    b=int(input(\"b value is:\"))\n",
    "    c=int(input(\"c value is:\"))\n",
    "\n",
    "    if a>b and a>c :\n",
    "        print(\"a is bigger\")\n",
    "        return a \n",
    "    elif b>c:\n",
    "        print(\"b is bigger\")\n",
    "        return b\n",
    "    else:\n",
    "        print(\"c is bigger\")\n",
    "        return c\n",
    "def display(number):\n",
    "    print(f\"The biggest number is {number}\")\n",
    "    \n",
    "def main():\n",
    "    number=get_input()\n",
    "    display(number)\n",
    "main()"
   ]
  },
  {
   "cell_type": "code",
   "execution_count": null,
   "metadata": {},
   "outputs": [],
   "source": []
  }
 ],
 "metadata": {
  "kernelspec": {
   "display_name": "Python 3",
   "language": "python",
   "name": "python3"
  },
  "language_info": {
   "name": "python",
   "version": "3.13.2"
  }
 },
 "nbformat": 4,
 "nbformat_minor": 2
}
