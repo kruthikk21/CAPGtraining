{
 "cells": [
  {
   "cell_type": "code",
   "execution_count": 2,
   "metadata": {},
   "outputs": [
    {
     "name": "stdout",
     "output_type": "stream",
     "text": [
      "The biggest number is 45\n"
     ]
    }
   ],
   "source": [
    "def get_input():\n",
    "    a=int(input(\"a value is:\"))\n",
    "    b=int(input(\"b value is:\"))\n",
    "    c=int(input(\"c value is:\"))\n",
    "    return(a,b,c)\n",
    "def display(number):\n",
    "    print(f\"The biggest number is {number}\")\n",
    "def get_max(a,b,c):\n",
    "    if a>b and a>c :\n",
    "        return a\n",
    "    elif b>c:\n",
    "        return b\n",
    "    else:\n",
    "        return c\n",
    "    \n",
    "def main():\n",
    "    a,b,c=get_input()\n",
    "    number=get_max(a,b,c)\n",
    "    display(number)\n",
    "main()"
   ]
  },
  {
   "cell_type": "code",
   "execution_count": null,
   "metadata": {},
   "outputs": [],
   "source": []
  }
 ],
 "metadata": {
  "kernelspec": {
   "display_name": "Python 3",
   "language": "python",
   "name": "python3"
  },
  "language_info": {
   "codemirror_mode": {
    "name": "ipython",
    "version": 3
   },
   "file_extension": ".py",
   "mimetype": "text/x-python",
   "name": "python",
   "nbconvert_exporter": "python",
   "pygments_lexer": "ipython3",
   "version": "3.13.1"
  }
 },
 "nbformat": 4,
 "nbformat_minor": 2
}
