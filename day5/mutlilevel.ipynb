{
 "cells": [
  {
   "cell_type": "code",
   "execution_count": 1,
   "metadata": {},
   "outputs": [
    {
     "name": "stdout",
     "output_type": "stream",
     "text": [
      "This is parent class\n",
      "This is child class\n"
     ]
    }
   ],
   "source": [
    "class parent:\n",
    "    def _init_(self):\n",
    "        print(\"This is parent class constructor\")\n",
    "    def func1(self):\n",
    "        print(\"This is parent class\")\n",
    "class child(parent):\n",
    "    def _init_(self):\n",
    "        super()._init_()\n",
    "        print(\"This is child class constructor\")\n",
    "    def func2(self):\n",
    "        print(\"This is child class\")\n",
    "c = child()\n",
    "c.func1()\n",
    "c.func2()\n",
    "del c"
   ]
  },
  {
   "cell_type": "code",
   "execution_count": null,
   "metadata": {},
   "outputs": [],
   "source": []
  }
 ],
 "metadata": {
  "kernelspec": {
   "display_name": "Python 3",
   "language": "python",
   "name": "python3"
  },
  "language_info": {
   "codemirror_mode": {
    "name": "ipython",
    "version": 3
   },
   "file_extension": ".py",
   "mimetype": "text/x-python",
   "name": "python",
   "nbconvert_exporter": "python",
   "pygments_lexer": "ipython3",
   "version": "3.13.2"
  }
 },
 "nbformat": 4,
 "nbformat_minor": 2
}
