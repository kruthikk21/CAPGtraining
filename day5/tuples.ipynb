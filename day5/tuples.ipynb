{
 "cells": [
  {
   "cell_type": "code",
   "execution_count": 3,
   "metadata": {},
   "outputs": [
    {
     "name": "stdout",
     "output_type": "stream",
     "text": [
      "An empty tuple ()\n",
      "a one utem tuple (0,)\n",
      "A four item tuple (0, 'ni', 1.2, 3)\n",
      "another four item tuple (0, 'ni', 1.2, 3)\n",
      "Nested tuple ('abc', ('def', 'geh'))\n",
      "tuple of items in an iterable ('s', 'p', 'a', 'm')\n"
     ]
    }
   ],
   "source": [
    "T=()\n",
    "print(\"An empty tuple\",T)\n",
    "T1=(0,)\n",
    "print(\"a one utem tuple\",T1)\n",
    "T2=(0, 'ni',1.2,3)\n",
    "print(\"A four item tuple\",T2)\n",
    "T3=0,'ni',1.2,3\n",
    "print(\"another four item tuple\",T3)\n",
    "T4=('abc',('def','geh'))\n",
    "print(\"Nested tuple\",T4)\n",
    "T5=tuple('spam')\n",
    "print(\"tuple of items in an iterable\",T5)\n",
    "vd"
   ]
  },
  {
   "cell_type": "code",
   "execution_count": null,
   "metadata": {},
   "outputs": [],
   "source": []
  }
 ],
 "metadata": {
  "kernelspec": {
   "display_name": "Python 3",
   "language": "python",
   "name": "python3"
  },
  "language_info": {
   "codemirror_mode": {
    "name": "ipython",
    "version": 3
   },
   "file_extension": ".py",
   "mimetype": "text/x-python",
   "name": "python",
   "nbconvert_exporter": "python",
   "pygments_lexer": "ipython3",
   "version": "3.13.1"
  }
 },
 "nbformat": 4,
 "nbformat_minor": 2
}
