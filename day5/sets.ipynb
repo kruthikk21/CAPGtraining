{
 "cells": [
  {
   "cell_type": "code",
   "execution_count": 1,
   "metadata": {},
   "outputs": [
    {
     "name": "stdout",
     "output_type": "stream",
     "text": [
      "Empty set: set()\n",
      "Fruits {'orange', 'apple', 'banana'}\n",
      "Fruits set after adding grapes {'orange', 'apple', 'banana', 'grapes'}\n",
      "Fruits set after removing apple {'orange', 'banana', 'grapes'}\n",
      "Fruits after clearing set()\n",
      "Fruits after updating kiwi {'i', 'w', 'k'}\n",
      "Fruits after updating list kiwi {'kiwi', 'i', 'w', 'k'}\n"
     ]
    }
   ],
   "source": [
    "empty_set=set()\n",
    "fruits= {'apple','orange','banana'}\n",
    "print(\"Empty set:\",empty_set)\n",
    "print(\"Fruits\",fruits)\n",
    "\n",
    "fruits.add('grapes')\n",
    "print(\"Fruits set after adding grapes\",fruits)\n",
    "\n",
    "fruits.remove('apple')\n",
    "print(\"Fruits set after removing apple\",fruits)\n",
    "\n",
    "fruits.clear()\n",
    "print(\"Fruits after clearing\",fruits)\n",
    "\n",
    "fruits.update('kiwi')\n",
    "print(\"Fruits after updating kiwi\",fruits)\n",
    "fruits.update(['kiwi'])\n",
    "print(\"Fruits after updating list kiwi\",fruits)"
   ]
  },
  {
   "cell_type": "code",
   "execution_count": null,
   "metadata": {},
   "outputs": [],
   "source": []
  }
 ],
 "metadata": {
  "kernelspec": {
   "display_name": "Python 3",
   "language": "python",
   "name": "python3"
  },
  "language_info": {
   "codemirror_mode": {
    "name": "ipython",
    "version": 3
   },
   "file_extension": ".py",
   "mimetype": "text/x-python",
   "name": "python",
   "nbconvert_exporter": "python",
   "pygments_lexer": "ipython3",
   "version": "3.13.1"
  }
 },
 "nbformat": 4,
 "nbformat_minor": 2
}
