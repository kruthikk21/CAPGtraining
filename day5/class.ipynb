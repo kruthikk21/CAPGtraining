{
 "cells": [
  {
   "cell_type": "code",
   "execution_count": null,
   "metadata": {},
   "outputs": [],
   "source": [
    "class employee:\n",
    "    emp_id=''\n",
    "    emp_name=''\n",
    "    emp_age=''\n",
    "    salary=''\n",
    "    phn_no=''\n",
    "    blood_grp=''\n",
    "    dept=''\n",
    "    experience=''\n",
    "    "
   ]
  },
  {
   "cell_type": "code",
   "execution_count": 6,
   "metadata": {},
   "outputs": [
    {
     "name": "stdout",
     "output_type": "stream",
     "text": [
      "Name: Kruthik\n",
      "Roll no 1\n",
      "rno 1\n",
      "Marks: 100\n",
      "age 22\n"
     ]
    }
   ],
   "source": [
    "class ug:\n",
    "    def __init__(self,name,rollno,marks,age):\n",
    "        self.name=name\n",
    "        self.__rollno=rollno\n",
    "        self.age=age\n",
    "        self.marks=marks\n",
    "    def get_rollno(self):\n",
    "        return self.__rollno\n",
    "\n",
    "class pg(ug):\n",
    "    def __init__(self,name,rollno,marks,age):\n",
    "        super().__init__(name,rollno,marks,age)\n",
    "       \n",
    "    def display(self):\n",
    "        print(\"Name:\",self.name)\n",
    "        print(\"Roll no\",self.get_rollno())\n",
    "        print(\"rno\",self._ug__rollno)\n",
    "        print(\"Marks:\",self.marks)\n",
    "        print(\"age\",self.age)\n",
    "p=pg(\"Kruthik\",1,100,22)\n",
    "p.display()\n"
   ]
  },
  {
   "cell_type": "code",
   "execution_count": 2,
   "metadata": {},
   "outputs": [
    {
     "name": "stdout",
     "output_type": "stream",
     "text": [
      "salary before update 1000\n",
      "salary after uodate 5000\n"
     ]
    }
   ],
   "source": [
    "class employee:\n",
    "    def __init__(self,name,salary):\n",
    "        self._name=name\n",
    "        self._salary=salary\n",
    "    def set_salary(self,salary):\n",
    "        self._salary=salary\n",
    "    def get_salary(self):\n",
    "        return self._salary\n",
    "\n",
    "emp=employee('kruthik',1000)\n",
    "print(\"salary before update\",emp.get_salary())\n",
    "emp.set_salary(5000)\n",
    "print(\"salary after uodate\",emp.get_salary())"
   ]
  },
  {
   "cell_type": "code",
   "execution_count": null,
   "metadata": {},
   "outputs": [],
   "source": [
    "#allowances:[\"travel\",\"food\",\"medical\",\"insurance\"]\n",
    "#deductions:[\"pf\",\"tax\",\"insurance\"]\n",
    "\n",
    "class Employee:\n",
    "    def _init_(self, empid, empname, empsalary, allowances, deductions):\n",
    "        self.empid = empid\n",
    "        self.empname = empname\n",
    "        self.empsalary = empsalary\n",
    "        self.allowances = allowances\n",
    "        self.deductions = deductions\n",
    "\n",
    "    def calculate_salary(self):\n",
    "        total_allowances = sum(self.allowances)\n",
    "        total_deductions = sum(self.deductions)\n",
    "        netsalary = self.empsalary + total_allowances - total_deductions\n",
    "        return netsalary\n",
    "    \n",
    "    def display(self):\n",
    "        print(\"Employee ID:\", self.empid)\n",
    "        print(\"Employee Name:\", self.empname)\n",
    "        print(\"Employee Salary:\", self.empsalary)\n",
    "        print(\"Employee Allowances:\", self.allowances)\n",
    "        print(\"Employee Deductions:\", self.deductions)\n",
    "        print(\"Employee Net Salary:\", self.calculate_salary())\n",
    "\n",
    "allowances = [1000, 2000, 3000, 4000]\n",
    "deductions = [500, 1000, 1500]   \n",
    "emp = Employee(1, \"Sriram\", 10000, allowances, deductions)\n",
    "emp.display()"
   ]
  }
 ],
 "metadata": {
  "kernelspec": {
   "display_name": "Python 3",
   "language": "python",
   "name": "python3"
  },
  "language_info": {
   "codemirror_mode": {
    "name": "ipython",
    "version": 3
   },
   "file_extension": ".py",
   "mimetype": "text/x-python",
   "name": "python",
   "nbconvert_exporter": "python",
   "pygments_lexer": "ipython3",
   "version": "3.13.1"
  }
 },
 "nbformat": 4,
 "nbformat_minor": 2
}
